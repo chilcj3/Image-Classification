{
 "cells": [
  {
   "cell_type": "markdown",
   "metadata": {
    "collapsed": true,
    "deletable": true,
    "editable": true
   },
   "source": [
    "# Image Classification\n",
    "In this project, you'll classify images from the [CIFAR-10 dataset](https://www.cs.toronto.edu/~kriz/cifar.html).  The dataset consists of airplanes, dogs, cats, and other objects. You'll preprocess the images, then train a convolutional neural network on all the samples. The images need to be normalized and the labels need to be one-hot encoded.  You'll get to apply what you learned and build a convolutional, max pooling, dropout, and fully connected layers.  At the end, you'll get to see your neural network's predictions on the sample images.\n",
    "## Get the Data\n",
    "Run the following cell to download the [CIFAR-10 dataset for python](https://www.cs.toronto.edu/~kriz/cifar-10-python.tar.gz)."
   ]
  },
  {
   "cell_type": "code",
   "execution_count": 1,
   "metadata": {
    "collapsed": false,
    "deletable": true,
    "editable": true
   },
   "outputs": [
    {
     "name": "stdout",
     "output_type": "stream",
     "text": [
      "All files found!\n"
     ]
    }
   ],
   "source": [
    "\"\"\"\n",
    "DON'T MODIFY ANYTHING IN THIS CELL THAT IS BELOW THIS LINE\n",
    "\"\"\"\n",
    "from urllib.request import urlretrieve\n",
    "from os.path import isfile, isdir\n",
    "from tqdm import tqdm\n",
    "import problem_unittests as tests\n",
    "import tarfile\n",
    "\n",
    "cifar10_dataset_folder_path = 'cifar-10-batches-py'\n",
    "\n",
    "# Use Floyd's cifar-10 dataset if present\n",
    "floyd_cifar10_location = '/input/cifar-10/python.tar.gz'\n",
    "if isfile(floyd_cifar10_location):\n",
    "    tar_gz_path = floyd_cifar10_location\n",
    "else:\n",
    "    tar_gz_path = 'cifar-10-python.tar.gz'\n",
    "\n",
    "class DLProgress(tqdm):\n",
    "    last_block = 0\n",
    "\n",
    "    def hook(self, block_num=1, block_size=1, total_size=None):\n",
    "        self.total = total_size\n",
    "        self.update((block_num - self.last_block) * block_size)\n",
    "        self.last_block = block_num\n",
    "\n",
    "if not isfile(tar_gz_path):\n",
    "    with DLProgress(unit='B', unit_scale=True, miniters=1, desc='CIFAR-10 Dataset') as pbar:\n",
    "        urlretrieve(\n",
    "            'https://www.cs.toronto.edu/~kriz/cifar-10-python.tar.gz',\n",
    "            tar_gz_path,\n",
    "            pbar.hook)\n",
    "\n",
    "if not isdir(cifar10_dataset_folder_path):\n",
    "    with tarfile.open(tar_gz_path) as tar:\n",
    "        tar.extractall()\n",
    "        tar.close()\n",
    "\n",
    "\n",
    "tests.test_folder_path(cifar10_dataset_folder_path)"
   ]
  },
  {
   "cell_type": "markdown",
   "metadata": {
    "deletable": true,
    "editable": true
   },
   "source": [
    "## Explore the Data\n",
    "The dataset is broken into batches to prevent your machine from running out of memory.  The CIFAR-10 dataset consists of 5 batches, named `data_batch_1`, `data_batch_2`, etc.. Each batch contains the labels and images that are one of the following:\n",
    "* airplane\n",
    "* automobile\n",
    "* bird\n",
    "* cat\n",
    "* deer\n",
    "* dog\n",
    "* frog\n",
    "* horse\n",
    "* ship\n",
    "* truck\n",
    "\n",
    "Understanding a dataset is part of making predictions on the data.  Play around with the code cell below by changing the `batch_id` and `sample_id`. The `batch_id` is the id for a batch (1-5). The `sample_id` is the id for a image and label pair in the batch.\n",
    "\n",
    "Ask yourself \"What are all possible labels?\", \"What is the range of values for the image data?\", \"Are the labels in order or random?\".  Answers to questions like these will help you preprocess the data and end up with better predictions."
   ]
  },
  {
   "cell_type": "code",
   "execution_count": 2,
   "metadata": {
    "collapsed": false,
    "deletable": true,
    "editable": true
   },
   "outputs": [
    {
     "name": "stdout",
     "output_type": "stream",
     "text": [
      "\n",
      "Stats of batch 2:\n",
      "Samples: 10000\n",
      "Label Counts: {0: 984, 1: 1007, 2: 1010, 3: 995, 4: 1010, 5: 988, 6: 1008, 7: 1026, 8: 987, 9: 985}\n",
      "First 20 Labels: [1, 6, 6, 8, 8, 3, 4, 6, 0, 6, 0, 3, 6, 6, 5, 4, 8, 3, 2, 6]\n",
      "\n",
      "Example of Image 6:\n",
      "Image - Min Value: 0 Max Value: 235\n",
      "Image - Shape: (32, 32, 3)\n",
      "Label - Label Id: 4 Name: deer\n"
     ]
    },
    {
     "data": {
      "image/png": "[encoded data removed]",
      "text/plain": [
       "<matplotlib.figure.Figure at 0x7fb44f1a2588>"
      ]
     },
     "metadata": {
      "image/png": {
       "height": 250,
       "width": 253
      }
     },
     "output_type": "display_data"
    }
   ],
   "source": [
    "%matplotlib inline\n",
    "%config InlineBackend.figure_format = 'retina'\n",
    "\n",
    "import helper\n",
    "import numpy as np\n",
    "\n",
    "# Explore the dataset\n",
    "batch_id = 2\n",
    "sample_id = 6\n",
    "helper.display_stats(cifar10_dataset_folder_path, batch_id, sample_id)"
   ]
  },
  {
   "cell_type": "markdown",
   "metadata": {
    "deletable": true,
    "editable": true
   },
   "source": [
    "## Implement Preprocess Functions\n",
    "### Normalize\n",
    "In the cell below, implement the `normalize` function to take in image data, `x`, and return it as a normalized Numpy array. The values should be in the range of 0 to 1, inclusive.  The return object should be the same shape as `x`."
   ]
  },
  {
   "cell_type": "code",
   "execution_count": 3,
   "metadata": {
    "collapsed": false,
    "deletable": true,
    "editable": true
   },
   "outputs": [
    {
     "name": "stdout",
     "output_type": "stream",
     "text": [
      "Tests Passed\n"
     ]
    }
   ],
   "source": [
    "def normalize(x):\n",
    "    \"\"\"\n",
    "    Normalize a list of sample image data in the range of 0 to 1\n",
    "    : x: List of image data.  The image shape is (32, 32, 3)\n",
    "    : return: Numpy array of normalize data\n",
    "    \"\"\"\n",
    "    # TODO: Implement Function\n",
    "    return (x - x.min()) / (x.max() - x.min())\n",
    "\n",
    "\n",
    "\"\"\"\n",
    "DON'T MODIFY ANYTHING IN THIS CELL THAT IS BELOW THIS LINE\n",
    "\"\"\"\n",
    "tests.test_normalize(normalize)"
   ]
  },
  {
   "cell_type": "markdown",
   "metadata": {
    "deletable": true,
    "editable": true
   },
   "source": [
    "### One-hot encode\n",
    "Just like the previous code cell, you'll be implementing a function for preprocessing.  This time, you'll implement the `one_hot_encode` function. The input, `x`, are a list of labels.  Implement the function to return the list of labels as One-Hot encoded Numpy array.  The possible values for labels are 0 to 9. The one-hot encoding function should return the same encoding for each value between each call to `one_hot_encode`.  Make sure to save the map of encodings outside the function.\n",
    "\n",
    "Hint: Don't reinvent the wheel."
   ]
  },
  {
   "cell_type": "code",
   "execution_count": 4,
   "metadata": {
    "collapsed": false,
    "deletable": true,
    "editable": true
   },
   "outputs": [
    {
     "name": "stdout",
     "output_type": "stream",
     "text": [
      "Tests Passed\n"
     ]
    }
   ],
   "source": [
    "def one_hot_encode(x):\n",
    "    \"\"\"\n",
    "    One hot encode a list of sample labels. Return a one-hot encoded vector for each label.\n",
    "    : x: List of sample Labels\n",
    "    : return: Numpy array of one-hot encoded labels\n",
    "    \"\"\"\n",
    "    # TODO: Implement Function\n",
    "    return np.eye(10)[np.array([x]).reshape(-1)]\n",
    "\n",
    "\n",
    "\"\"\"\n",
    "DON'T MODIFY ANYTHING IN THIS CELL THAT IS BELOW THIS LINE\n",
    "\"\"\"\n",
    "tests.test_one_hot_encode(one_hot_encode)"
   ]
  },
  {
   "cell_type": "markdown",
   "metadata": {
    "deletable": true,
    "editable": true
   },
   "source": [
    "### Randomize Data\n",
    "As you saw from exploring the data above, the order of the samples are randomized.  It doesn't hurt to randomize it again, but you don't need to for this dataset."
   ]
  },
  {
   "cell_type": "markdown",
   "metadata": {
    "deletable": true,
    "editable": true
   },
   "source": [
    "## Preprocess all the data and save it\n",
    "Running the code cell below will preprocess all the CIFAR-10 data and save it to file. The code below also uses 10% of the training data for validation."
   ]
  },
  {
   "cell_type": "code",
   "execution_count": 5,
   "metadata": {
    "collapsed": true,
    "deletable": true,
    "editable": true
   },
   "outputs": [],
   "source": [
    "\"\"\"\n",
    "DON'T MODIFY ANYTHING IN THIS CELL\n",
    "\"\"\"\n",
    "# Preprocess Training, Validation, and Testing Data\n",
    "helper.preprocess_and_save_data(cifar10_dataset_folder_path, normalize, one_hot_encode)"
   ]
  },
  {
   "cell_type": "markdown",
   "metadata": {
    "deletable": true,
    "editable": true
   },
   "source": [
    "# Check Point\n",
    "This is your first checkpoint.  If you ever decide to come back to this notebook or have to restart the notebook, you can start from here.  The preprocessed data has been saved to disk."
   ]
  },
  {
   "cell_type": "code",
   "execution_count": 6,
   "metadata": {
    "collapsed": false,
    "deletable": true,
    "editable": true
   },
   "outputs": [],
   "source": [
    "\"\"\"\n",
    "DON'T MODIFY ANYTHING IN THIS CELL\n",
    "\"\"\"\n",
    "import pickle\n",
    "import problem_unittests as tests\n",
    "import helper\n",
    "\n",
    "# Load the Preprocessed Validation data\n",
    "valid_features, valid_labels = pickle.load(open('preprocess_validation.p', mode='rb'))"
   ]
  },
  {
   "cell_type": "markdown",
   "metadata": {
    "deletable": true,
    "editable": true
   },
   "source": [
    "## Build the network\n",
    "For the neural network, you'll build each layer into a function.  Most of the code you've seen has been outside of functions. To test your code more thoroughly, we require that you put each layer in a function.  This allows us to give you better feedback and test for simple mistakes using our unittests before you submit your project.\n",
    "\n",
    ">**Note:** If you're finding it hard to dedicate enough time for this course each week, we've provided a small shortcut to this part of the project. In the next couple of problems, you'll have the option to use classes from the [TensorFlow Layers](https://www.tensorflow.org/api_docs/python/tf/layers) or [TensorFlow Layers (contrib)](https://www.tensorflow.org/api_guides/python/contrib.layers) packages to build each layer, except the layers you build in the \"Convolutional and Max Pooling Layer\" section.  TF Layers is similar to Keras's and TFLearn's abstraction to layers, so it's easy to pickup.\n",
    "\n",
    ">However, if you would like to get the most out of this course, try to solve all the problems _without_ using anything from the TF Layers packages. You **can** still use classes from other packages that happen to have the same name as ones you find in TF Layers! For example, instead of using the TF Layers version of the `conv2d` class, [tf.layers.conv2d](https://www.tensorflow.org/api_docs/python/tf/layers/conv2d), you would want to use the TF Neural Network version of `conv2d`, [tf.nn.conv2d](https://www.tensorflow.org/api_docs/python/tf/nn/conv2d). \n",
    "\n",
    "Let's begin!\n",
    "\n",
    "### Input\n",
    "The neural network needs to read the image data, one-hot encoded labels, and dropout keep probability. Implement the following functions\n",
    "* Implement `neural_net_image_input`\n",
    " * Return a [TF Placeholder](https://www.tensorflow.org/api_docs/python/tf/placeholder)\n",
    " * Set the shape using `image_shape` with batch size set to `None`.\n",
    " * Name the TensorFlow placeholder \"x\" using the TensorFlow `name` parameter in the [TF Placeholder](https://www.tensorflow.org/api_docs/python/tf/placeholder).\n",
    "* Implement `neural_net_label_input`\n",
    " * Return a [TF Placeholder](https://www.tensorflow.org/api_docs/python/tf/placeholder)\n",
    " * Set the shape using `n_classes` with batch size set to `None`.\n",
    " * Name the TensorFlow placeholder \"y\" using the TensorFlow `name` parameter in the [TF Placeholder](https://www.tensorflow.org/api_docs/python/tf/placeholder).\n",
    "* Implement `neural_net_keep_prob_input`\n",
    " * Return a [TF Placeholder](https://www.tensorflow.org/api_docs/python/tf/placeholder) for dropout keep probability.\n",
    " * Name the TensorFlow placeholder \"keep_prob\" using the TensorFlow `name` parameter in the [TF Placeholder](https://www.tensorflow.org/api_docs/python/tf/placeholder).\n",
    "\n",
    "These names will be used at the end of the project to load your saved model.\n",
    "\n",
    "Note: `None` for shapes in TensorFlow allow for a dynamic size."
   ]
  },
  {
   "cell_type": "code",
   "execution_count": 7,
   "metadata": {
    "collapsed": false,
    "deletable": true,
    "editable": true
   },
   "outputs": [
    {
     "name": "stdout",
     "output_type": "stream",
     "text": [
      "Image Input Tests Passed.\n",
      "Label Input Tests Passed.\n",
      "Keep Prob Tests Passed.\n"
     ]
    }
   ],
   "source": [
    "import tensorflow as tf\n",
    "\n",
    "def neural_net_image_input(image_shape):\n",
    "    \"\"\"\n",
    "    Return a Tensor for a batch of image input\n",
    "    : image_shape: Shape of the images\n",
    "    : return: Tensor for image input.\n",
    "    \"\"\"\n",
    "    # TODO: Implement Function\n",
    "    return tf.placeholder(tf.float32, shape = [None] + list(image_shape), name = 'x')\n",
    "\n",
    "\n",
    "def neural_net_label_input(n_classes):\n",
    "    \"\"\"\n",
    "    Return a Tensor for a batch of label input\n",
    "    : n_classes: Number of classes\n",
    "    : return: Tensor for label input.\n",
    "    \"\"\"\n",
    "    # TODO: Implement Function\n",
    "    return tf.placeholder(tf.float32, shape = [None, n_classes], name = 'y')\n",
    "\n",
    "\n",
    "def neural_net_keep_prob_input():\n",
    "    \"\"\"\n",
    "    Return a Tensor for keep probability\n",
    "    : return: Tensor for keep probability.\n",
    "    \"\"\"\n",
    "    # TODO: Implement Function\n",
    "    return tf.placeholder(tf.float32, name = 'keep_prob')\n",
    "\n",
    "\"\"\"\n",
    "DON'T MODIFY ANYTHING IN THIS CELL THAT IS BELOW THIS LINE\n",
    "\"\"\"\n",
    "tf.reset_default_graph()\n",
    "tests.test_nn_image_inputs(neural_net_image_input)\n",
    "tests.test_nn_label_inputs(neural_net_label_input)\n",
    "tests.test_nn_keep_prob_inputs(neural_net_keep_prob_input)"
   ]
  },
  {
   "cell_type": "markdown",
   "metadata": {
    "deletable": true,
    "editable": true
   },
   "source": [
    "### Convolution and Max Pooling Layer\n",
    "Convolution layers have a lot of success with images. For this code cell, you should implement the function `conv2d_maxpool` to apply convolution then max pooling:\n",
    "* Create the weight and bias using `conv_ksize`, `conv_num_outputs` and the shape of `x_tensor`.\n",
    "* Apply a convolution to `x_tensor` using weight and `conv_strides`.\n",
    " * We recommend you use same padding, but you're welcome to use any padding.\n",
    "* Add bias\n",
    "* Add a nonlinear activation to the convolution.\n",
    "* Apply Max Pooling using `pool_ksize` and `pool_strides`.\n",
    " * We recommend you use same padding, but you're welcome to use any padding.\n",
    "\n",
    "**Note:** You **can't** use [TensorFlow Layers](https://www.tensorflow.org/api_docs/python/tf/layers) or [TensorFlow Layers (contrib)](https://www.tensorflow.org/api_guides/python/contrib.layers) for **this** layer, but you can still use TensorFlow's [Neural Network](https://www.tensorflow.org/api_docs/python/tf/nn) package. You may still use the shortcut option for all the **other** layers."
   ]
  },
  {
   "cell_type": "code",
   "execution_count": 8,
   "metadata": {
    "collapsed": false,
    "deletable": true,
    "editable": true,
    "scrolled": false
   },
   "outputs": [
    {
     "name": "stdout",
     "output_type": "stream",
     "text": [
      "Tests Passed\n"
     ]
    }
   ],
   "source": [
    "def conv2d_maxpool(x_tensor, conv_num_outputs, conv_ksize, conv_strides, pool_ksize, pool_strides, use_pooling=True):\n",
    "    \"\"\"\n",
    "    Apply convolution then max pooling to x_tensor\n",
    "    :param x_tensor: TensorFlow Tensor\n",
    "    :param conv_num_outputs: Number of outputs for the convolutional layer\n",
    "    :param conv_ksize: kernal size 2-D Tuple for the convolutional layer\n",
    "    :param conv_strides: Stride 2-D Tuple for convolution\n",
    "    :param pool_ksize: kernal size 2-D Tuple for pool\n",
    "    :param pool_strides: Stride 2-D Tuple for pool\n",
    "    : return: A tensor that represents convolution and max pooling of x_tensor\n",
    "    \"\"\"\n",
    "    W = tf.Variable(tf.truncated_normal([conv_ksize[0], \n",
    "                                         conv_ksize[1], \n",
    "                                         int(x_tensor.get_shape()[3]), \n",
    "                                         conv_num_outputs], stddev = .1))\n",
    "    b = tf.Variable(tf.zeros(conv_num_outputs))   \n",
    "    conv_layer = tf.nn.conv2d(x_tensor, W, \n",
    "                              strides = [1, conv_strides[0], conv_strides[1], 1], \n",
    "                              padding = 'SAME')\n",
    "    conv_layer = tf.nn.bias_add(conv_layer, b)\n",
    "    conv_layer = tf.nn.relu(conv_layer)\n",
    "    if use_pooling:\n",
    "        conv_layer = tf.nn.max_pool(conv_layer, \n",
    "                                    ksize = [1, pool_ksize[0], pool_ksize[1], 1], \n",
    "                                    strides = [1, pool_strides[0], pool_strides[1], 1],\n",
    "                                    padding = 'SAME')\n",
    "\n",
    "    return conv_layer\n",
    "\n",
    "\n",
    "\"\"\"\n",
    "DON'T MODIFY ANYTHING IN THIS CELL THAT IS BELOW THIS LINE\n",
    "\"\"\"\n",
    "tests.test_con_pool(conv2d_maxpool)"
   ]
  },
  {
   "cell_type": "markdown",
   "metadata": {
    "deletable": true,
    "editable": true
   },
   "source": [
    "### Flatten Layer\n",
    "Implement the `flatten` function to change the dimension of `x_tensor` from a 4-D tensor to a 2-D tensor.  The output should be the shape (*Batch Size*, *Flattened Image Size*). Shortcut option: you can use classes from the [TensorFlow Layers](https://www.tensorflow.org/api_docs/python/tf/layers) or [TensorFlow Layers (contrib)](https://www.tensorflow.org/api_guides/python/contrib.layers) packages for this layer. For more of a challenge, only use other TensorFlow packages."
   ]
  },
  {
   "cell_type": "code",
   "execution_count": 9,
   "metadata": {
    "collapsed": false,
    "deletable": true,
    "editable": true
   },
   "outputs": [
    {
     "name": "stdout",
     "output_type": "stream",
     "text": [
      "Tests Passed\n"
     ]
    }
   ],
   "source": [
    "def flatten(x_tensor):\n",
    "    \"\"\"\n",
    "    Flatten x_tensor to (Batch Size, Flattened Image Size)\n",
    "    : x_tensor: A tensor of size (Batch Size, ...), where ... are the image dimensions.\n",
    "    : return: A tensor of size (Batch Size, Flattened Image Size).\n",
    "    \"\"\"\n",
    "    # TODO: Implement Function\n",
    "    layer_shape = x_tensor.get_shape()\n",
    "    num_features = layer_shape[1:4].num_elements()\n",
    "    layer_flat = tf.reshape(x_tensor, [-1, num_features])\n",
    "    return layer_flat\n",
    "    #return tf.contrib.layers.flatten(x_tensor)\n",
    "\n",
    "\"\"\"\n",
    "DON'T MODIFY ANYTHING IN THIS CELL THAT IS BELOW THIS LINE\n",
    "\"\"\"\n",
    "tests.test_flatten(flatten)"
   ]
  },
  {
   "cell_type": "markdown",
   "metadata": {
    "deletable": true,
    "editable": true
   },
   "source": [
    "### Fully-Connected Layer\n",
    "Implement the `fully_conn` function to apply a fully connected layer to `x_tensor` with the shape (*Batch Size*, *num_outputs*). Shortcut option: you can use classes from the [TensorFlow Layers](https://www.tensorflow.org/api_docs/python/tf/layers) or [TensorFlow Layers (contrib)](https://www.tensorflow.org/api_guides/python/contrib.layers) packages for this layer. For more of a challenge, only use other TensorFlow packages."
   ]
  },
  {
   "cell_type": "code",
   "execution_count": 10,
   "metadata": {
    "collapsed": false,
    "deletable": true,
    "editable": true
   },
   "outputs": [
    {
     "name": "stdout",
     "output_type": "stream",
     "text": [
      "Tests Passed\n"
     ]
    }
   ],
   "source": [
    "def fully_conn(x_tensor, num_outputs, use_relu=False):\n",
    "    \"\"\"\n",
    "    Apply a fully connected layer to x_tensor using weight and bias\n",
    "    : x_tensor: A 2-D tensor where the first dimension is batch size.\n",
    "    : num_outputs: The number of output that the new tensor should be.\n",
    "    : return: A 2-D tensor where the second dimension is num_outputs.\n",
    "    \"\"\"\n",
    "    W = tf.Variable(tf.truncated_normal([int(x_tensor.get_shape()[1]), num_outputs],\n",
    "                                        stddev = .1))\n",
    "    b = tf.Variable(tf.zeros(num_outputs))\n",
    "    fully_conn_layer = tf.add(tf.matmul(x_tensor, W), b)\n",
    "    if use_relu:\n",
    "        fully_conn_layer = tf.nn.relu(fully_conn_layer)\n",
    "    return fully_conn_layer\n",
    "\n",
    "\n",
    "\"\"\"\n",
    "DON'T MODIFY ANYTHING IN THIS CELL THAT IS BELOW THIS LINE\n",
    "\"\"\"\n",
    "tests.test_fully_conn(fully_conn)"
   ]
  },
  {
   "cell_type": "markdown",
   "metadata": {
    "deletable": true,
    "editable": true
   },
   "source": [
    "### Output Layer\n",
    "Implement the `output` function to apply a fully connected layer to `x_tensor` with the shape (*Batch Size*, *num_outputs*). Shortcut option: you can use classes from the [TensorFlow Layers](https://www.tensorflow.org/api_docs/python/tf/layers) or [TensorFlow Layers (contrib)](https://www.tensorflow.org/api_guides/python/contrib.layers) packages for this layer. For more of a challenge, only use other TensorFlow packages.\n",
    "\n",
    "**Note:** Activation, softmax, or cross entropy should **not** be applied to this."
   ]
  },
  {
   "cell_type": "code",
   "execution_count": 11,
   "metadata": {
    "collapsed": false,
    "deletable": true,
    "editable": true
   },
   "outputs": [
    {
     "name": "stdout",
     "output_type": "stream",
     "text": [
      "Tests Passed\n"
     ]
    }
   ],
   "source": [
    "def output(x_tensor, num_outputs):\n",
    "    \"\"\"\n",
    "    Apply a output layer to x_tensor using weight and bias\n",
    "    : x_tensor: A 2-D tensor where the first dimension is batch size.\n",
    "    : num_outputs: The number of output that the new tensor should be.\n",
    "    : return: A 2-D tensor where the second dimension is num_outputs.\n",
    "    \"\"\"\n",
    "    W = tf.Variable(tf.truncated_normal([int(x_tensor.get_shape()[1]), num_outputs],\n",
    "                                        stddev = .1))\n",
    "    b = tf.Variable(tf.zeros(num_outputs))\n",
    "    output_layer = tf.add(tf.matmul(x_tensor, W), b)\n",
    "    \n",
    "    return output_layer\n",
    "\n",
    "\n",
    "\"\"\"\n",
    "DON'T MODIFY ANYTHING IN THIS CELL THAT IS BELOW THIS LINE\n",
    "\"\"\"\n",
    "tests.test_output(output)"
   ]
  },
  {
   "cell_type": "markdown",
   "metadata": {
    "deletable": true,
    "editable": true
   },
   "source": [
    "### Create Convolutional Model\n",
    "Implement the function `conv_net` to create a convolutional neural network model. The function takes in a batch of images, `x`, and outputs logits.  Use the layers you created above to create this model:\n",
    "\n",
    "* Apply 1, 2, or 3 Convolution and Max Pool layers\n",
    "* Apply a Flatten Layer\n",
    "* Apply 1, 2, or 3 Fully Connected Layers\n",
    "* Apply an Output Layer\n",
    "* Return the output\n",
    "* Apply [TensorFlow's Dropout](https://www.tensorflow.org/api_docs/python/tf/nn/dropout) to one or more layers in the model using `keep_prob`. "
   ]
  },
  {
   "cell_type": "code",
   "execution_count": 28,
   "metadata": {
    "collapsed": false,
    "deletable": true,
    "editable": true
   },
   "outputs": [
    {
     "name": "stdout",
     "output_type": "stream",
     "text": [
      "Neural Network Built!\n"
     ]
    }
   ],
   "source": [
    "def conv_net(x, keep_prob):\n",
    "    \"\"\"\n",
    "    Create a convolutional neural network model\n",
    "    : x: Placeholder tensor that holds image data.\n",
    "    : keep_prob: Placeholder tensor that hold dropout keep probability.\n",
    "    : return: Tensor that represents logits\n",
    "    \"\"\"\n",
    "    # TODO: Apply 1, 2, or 3 Convolution and Max Pool layers\n",
    "    #    Play around with different number of outputs, kernel size and stride\n",
    "    # Function Definition from Above:\n",
    "    #    conv2d_maxpool(x_tensor, conv_num_outputs, conv_ksize, conv_strides, pool_ksize, pool_strides)\n",
    "    \n",
    "    conv = conv2d_maxpool(x, \n",
    "                          conv_num_outputs = 8,\n",
    "                          conv_ksize = (3, 3), \n",
    "                          conv_strides = (1, 1), \n",
    "                          pool_ksize = (2, 2), \n",
    "                          pool_strides = (2, 2),\n",
    "                          use_pooling=False)\n",
    "    \n",
    "    conv = conv2d_maxpool(conv, \n",
    "                          conv_num_outputs = 16,\n",
    "                          conv_ksize = (3, 3), \n",
    "                          conv_strides = (1, 1), \n",
    "                          pool_ksize = (2, 2), \n",
    "                          pool_strides = (2, 2),\n",
    "                          use_pooling=True)\n",
    "    \n",
    "    conv = conv2d_maxpool(conv, \n",
    "                          conv_num_outputs = 32,\n",
    "                          conv_ksize = (3, 3), \n",
    "                          conv_strides = (1, 1), \n",
    "                          pool_ksize = (2, 2), \n",
    "                          pool_strides = (2, 2),\n",
    "                          use_pooling=True)\n",
    "\n",
    "    # TODO: Apply a Flatten Layer\n",
    "    # Function Definition from Above:\n",
    "    #   flatten(x_tensor)\n",
    "    \n",
    "    flattened_conv_layer = flatten(conv)\n",
    "\n",
    "    # TODO: Apply 1, 2, or 3 Fully Connected Layers\n",
    "    #    Play around with different number of outputs\n",
    "    # Function Definition from Above:\n",
    "    #   fully_conn(x_tensor, num_outputs)\n",
    "    \n",
    "    fully_conn_layer = fully_conn(flattened_conv_layer, 250)\n",
    "    #fully_conn_layer = fully_conn(fully_conn_layer, 50)\n",
    "    #fully_conn_layer = fully_conn(fully_conn_layer, 20)\n",
    "\n",
    "    fully_conn_layer = tf.nn.dropout(fully_conn_layer, keep_prob)\n",
    "    \n",
    "    # TODO: Apply an Output Layer\n",
    "    #    Set this to the number of classes\n",
    "    # Function Definition from Above:\n",
    "    #   output(x_tensor, num_outputs)\n",
    "    \n",
    "    output_layer = output(fully_conn_layer, 10)\n",
    "    \n",
    "    \n",
    "    # TODO: return output\n",
    "    return output_layer\n",
    "\n",
    "\n",
    "\"\"\"\n",
    "DON'T MODIFY ANYTHING IN THIS CELL THAT IS BELOW THIS LINE\n",
    "\"\"\"\n",
    "\n",
    "##############################\n",
    "## Build the Neural Network ##\n",
    "##############################\n",
    "\n",
    "# Remove previous weights, bias, inputs, etc..\n",
    "tf.reset_default_graph()\n",
    "\n",
    "# Inputs\n",
    "x = neural_net_image_input((32, 32, 3))\n",
    "y = neural_net_label_input(10)\n",
    "keep_prob = neural_net_keep_prob_input()\n",
    "\n",
    "# Model\n",
    "logits = conv_net(x, keep_prob)\n",
    "\n",
    "# Name logits Tensor, so that is can be loaded from disk after training\n",
    "logits = tf.identity(logits, name='logits')\n",
    "\n",
    "# Loss and Optimizer\n",
    "cost = tf.reduce_mean(tf.nn.softmax_cross_entropy_with_logits(logits=logits, labels=y))\n",
    "optimizer = tf.train.AdamOptimizer().minimize(cost)\n",
    "\n",
    "# Accuracy\n",
    "correct_pred = tf.equal(tf.argmax(logits, 1), tf.argmax(y, 1))\n",
    "accuracy = tf.reduce_mean(tf.cast(correct_pred, tf.float32), name='accuracy')\n",
    "\n",
    "tests.test_conv_net(conv_net)"
   ]
  },
  {
   "cell_type": "markdown",
   "metadata": {
    "deletable": true,
    "editable": true
   },
   "source": [
    "## Train the Neural Network\n",
    "### Single Optimization\n",
    "Implement the function `train_neural_network` to do a single optimization.  The optimization should use `optimizer` to optimize in `session` with a `feed_dict` of the following:\n",
    "* `x` for image input\n",
    "* `y` for labels\n",
    "* `keep_prob` for keep probability for dropout\n",
    "\n",
    "This function will be called for each batch, so `tf.global_variables_initializer()` has already been called.\n",
    "\n",
    "Note: Nothing needs to be returned. This function is only optimizing the neural network."
   ]
  },
  {
   "cell_type": "code",
   "execution_count": 29,
   "metadata": {
    "collapsed": false,
    "deletable": true,
    "editable": true
   },
   "outputs": [
    {
     "name": "stdout",
     "output_type": "stream",
     "text": [
      "Tests Passed\n"
     ]
    }
   ],
   "source": [
    "def train_neural_network(session, optimizer, keep_probability, feature_batch, label_batch):\n",
    "    \"\"\"\n",
    "    Optimize the session on a batch of images and labels\n",
    "    : session: Current TensorFlow session\n",
    "    : optimizer: TensorFlow optimizer function\n",
    "    : keep_probability: keep probability\n",
    "    : feature_batch: Batch of Numpy image data\n",
    "    : label_batch: Batch of Numpy label data\n",
    "    \"\"\"\n",
    "    output = session.run(optimizer, feed_dict = {x: feature_batch,\n",
    "                                                 y: label_batch,\n",
    "                                                 keep_prob: keep_probability})\n",
    "    return output\n",
    "\n",
    "\n",
    "\"\"\"\n",
    "DON'T MODIFY ANYTHING IN THIS CELL THAT IS BELOW THIS LINE\n",
    "\"\"\"\n",
    "tests.test_train_nn(train_neural_network)"
   ]
  },
  {
   "cell_type": "markdown",
   "metadata": {
    "deletable": true,
    "editable": true
   },
   "source": [
    "### Show Stats\n",
    "Implement the function `print_stats` to print loss and validation accuracy.  Use the global variables `valid_features` and `valid_labels` to calculate validation accuracy.  Use a keep probability of `1.0` to calculate the loss and validation accuracy."
   ]
  },
  {
   "cell_type": "code",
   "execution_count": 30,
   "metadata": {
    "collapsed": false,
    "deletable": true,
    "editable": true
   },
   "outputs": [],
   "source": [
    "def print_stats(session, feature_batch, label_batch, cost, accuracy):\n",
    "    \"\"\"\n",
    "    Print information about loss and validation accuracy\n",
    "    : session: Current TensorFlow session\n",
    "    : feature_batch: Batch of Numpy image data\n",
    "    : label_batch: Batch of Numpy label data\n",
    "    : cost: TensorFlow cost function\n",
    "    : accuracy: TensorFlow accuracy function\n",
    "    \"\"\"\n",
    "    train_cost = session.run(cost, feed_dict = {x: feature_batch, \n",
    "                                                y: label_batch,\n",
    "                                                keep_prob: 1.0})\n",
    "    valid_accuracy = session.run(accuracy, feed_dict = {x: valid_features, \n",
    "                                                        y: valid_labels,\n",
    "                                                        keep_prob: 1.0})\n",
    "    print('Train Cost: {} ... Validation Accuracy: {}'.format(str(train_cost)[:5],\n",
    "                                                              str(valid_accuracy)[:5]))"
   ]
  },
  {
   "cell_type": "markdown",
   "metadata": {
    "deletable": true,
    "editable": true
   },
   "source": [
    "### Hyperparameters\n",
    "Tune the following parameters:\n",
    "* Set `epochs` to the number of iterations until the network stops learning or start overfitting\n",
    "* Set `batch_size` to the highest number that your machine has memory for.  Most people set them to common sizes of memory:\n",
    " * 64\n",
    " * 128\n",
    " * 256\n",
    " * ...\n",
    "* Set `keep_probability` to the probability of keeping a node using dropout"
   ]
  },
  {
   "cell_type": "code",
   "execution_count": 31,
   "metadata": {
    "collapsed": true,
    "deletable": true,
    "editable": true
   },
   "outputs": [],
   "source": [
    "# TODO: Tune Parameters\n",
    "epochs = 20\n",
    "batch_size = 256\n",
    "keep_probability = .5"
   ]
  },
  {
   "cell_type": "markdown",
   "metadata": {
    "deletable": true,
    "editable": true
   },
   "source": [
    "### Train on a Single CIFAR-10 Batch\n",
    "Instead of training the neural network on all the CIFAR-10 batches of data, let's use a single batch. This should save time while you iterate on the model to get a better accuracy.  Once the final validation accuracy is 50% or greater, run the model on all the data in the next section."
   ]
  },
  {
   "cell_type": "code",
   "execution_count": 32,
   "metadata": {
    "collapsed": false,
    "deletable": true,
    "editable": true
   },
   "outputs": [
    {
     "name": "stdout",
     "output_type": "stream",
     "text": [
      "Checking the Training on a Single Batch...\n",
      "Epoch  1, CIFAR-10 Batch 1:  Train Cost: 2.038 ... Validation Accuracy: 0.349\n",
      "Epoch  2, CIFAR-10 Batch 1:  Train Cost: 1.798 ... Validation Accuracy: 0.410\n",
      "Epoch  3, CIFAR-10 Batch 1:  Train Cost: 1.606 ... Validation Accuracy: 0.452\n",
      "Epoch  4, CIFAR-10 Batch 1:  Train Cost: 1.424 ... Validation Accuracy: 0.472\n",
      "Epoch  5, CIFAR-10 Batch 1:  Train Cost: 1.285 ... Validation Accuracy: 0.498\n",
      "Epoch  6, CIFAR-10 Batch 1:  Train Cost: 1.158 ... Validation Accuracy: 0.498\n",
      "Epoch  7, CIFAR-10 Batch 1:  Train Cost: 1.026 ... Validation Accuracy: 0.520\n",
      "Epoch  8, CIFAR-10 Batch 1:  Train Cost: 0.923 ... Validation Accuracy: 0.522\n",
      "Epoch  9, CIFAR-10 Batch 1:  Train Cost: 0.816 ... Validation Accuracy: 0.534\n",
      "Epoch 10, CIFAR-10 Batch 1:  Train Cost: 0.719 ... Validation Accuracy: 0.545\n",
      "Epoch 11, CIFAR-10 Batch 1:  Train Cost: 0.630 ... Validation Accuracy: 0.559\n",
      "Epoch 12, CIFAR-10 Batch 1:  Train Cost: 0.550 ... Validation Accuracy: 0.556\n",
      "Epoch 13, CIFAR-10 Batch 1:  Train Cost: 0.498 ... Validation Accuracy: 0.560\n",
      "Epoch 14, CIFAR-10 Batch 1:  Train Cost: 0.429 ... Validation Accuracy: 0.569\n",
      "Epoch 15, CIFAR-10 Batch 1:  Train Cost: 0.373 ... Validation Accuracy: 0.565\n",
      "Epoch 16, CIFAR-10 Batch 1:  Train Cost: 0.335 ... Validation Accuracy: 0.572\n",
      "Epoch 17, CIFAR-10 Batch 1:  Train Cost: 0.293 ... Validation Accuracy: 0.571\n",
      "Epoch 18, CIFAR-10 Batch 1:  Train Cost: 0.276 ... Validation Accuracy: 0.578\n",
      "Epoch 19, CIFAR-10 Batch 1:  Train Cost: 0.244 ... Validation Accuracy: 0.580\n",
      "Epoch 20, CIFAR-10 Batch 1:  Train Cost: 0.229 ... Validation Accuracy: 0.578\n"
     ]
    }
   ],
   "source": [
    "\"\"\"\n",
    "DON'T MODIFY ANYTHING IN THIS CELL\n",
    "\"\"\"\n",
    "print('Checking the Training on a Single Batch...')\n",
    "with tf.Session() as sess:\n",
    "    # Initializing the variables\n",
    "    sess.run(tf.global_variables_initializer())\n",
    "    \n",
    "    # Training cycle\n",
    "    for epoch in range(epochs):\n",
    "        batch_i = 1\n",
    "        for batch_features, batch_labels in helper.load_preprocess_training_batch(batch_i, batch_size):\n",
    "            train_neural_network(sess, optimizer, keep_probability, batch_features, batch_labels)\n",
    "        print('Epoch {:>2}, CIFAR-10 Batch {}:  '.format(epoch + 1, batch_i), end='')\n",
    "        print_stats(sess, batch_features, batch_labels, cost, accuracy)"
   ]
  },
  {
   "cell_type": "markdown",
   "metadata": {
    "deletable": true,
    "editable": true
   },
   "source": [
    "### Fully Train the Model\n",
    "Now that you got a good accuracy with a single CIFAR-10 batch, try it with all five batches."
   ]
  },
  {
   "cell_type": "code",
   "execution_count": 34,
   "metadata": {
    "collapsed": false,
    "deletable": true,
    "editable": true,
    "scrolled": false
   },
   "outputs": [
    {
     "name": "stdout",
     "output_type": "stream",
     "text": [
      "Training...\n",
      "Epoch  1, CIFAR-10 Batch 1:  Train Cost: 2.115 ... Validation Accuracy: 0.306\n",
      "Epoch  1, CIFAR-10 Batch 2:  Train Cost: 1.743 ... Validation Accuracy: 0.395\n",
      "Epoch  1, CIFAR-10 Batch 3:  Train Cost: 1.375 ... Validation Accuracy: 0.43\n",
      "Epoch  1, CIFAR-10 Batch 4:  Train Cost: 1.423 ... Validation Accuracy: 0.470\n",
      "Epoch  1, CIFAR-10 Batch 5:  Train Cost: 1.490 ... Validation Accuracy: 0.503\n",
      "Epoch  2, CIFAR-10 Batch 1:  Train Cost: 1.573 ... Validation Accuracy: 0.513\n",
      "Epoch  2, CIFAR-10 Batch 2:  Train Cost: 1.256 ... Validation Accuracy: 0.521\n",
      "Epoch  2, CIFAR-10 Batch 3:  Train Cost: 1.038 ... Validation Accuracy: 0.517\n",
      "Epoch  2, CIFAR-10 Batch 4:  Train Cost: 1.116 ... Validation Accuracy: 0.545\n",
      "Epoch  2, CIFAR-10 Batch 5:  Train Cost: 1.288 ... Validation Accuracy: 0.56\n",
      "Epoch  3, CIFAR-10 Batch 1:  Train Cost: 1.371 ... Validation Accuracy: 0.568\n",
      "Epoch  3, CIFAR-10 Batch 2:  Train Cost: 1.016 ... Validation Accuracy: 0.567\n",
      "Epoch  3, CIFAR-10 Batch 3:  Train Cost: 0.839 ... Validation Accuracy: 0.568\n",
      "Epoch  3, CIFAR-10 Batch 4:  Train Cost: 0.936 ... Validation Accuracy: 0.590\n",
      "Epoch  3, CIFAR-10 Batch 5:  Train Cost: 1.145 ... Validation Accuracy: 0.591\n",
      "Epoch  4, CIFAR-10 Batch 1:  Train Cost: 1.112 ... Validation Accuracy: 0.602\n",
      "Epoch  4, CIFAR-10 Batch 2:  Train Cost: 0.819 ... Validation Accuracy: 0.611\n",
      "Epoch  4, CIFAR-10 Batch 3:  Train Cost: 0.663 ... Validation Accuracy: 0.613\n",
      "Epoch  4, CIFAR-10 Batch 4:  Train Cost: 0.822 ... Validation Accuracy: 0.615\n",
      "Epoch  4, CIFAR-10 Batch 5:  Train Cost: 0.919 ... Validation Accuracy: 0.617\n",
      "Epoch  5, CIFAR-10 Batch 1:  Train Cost: 0.991 ... Validation Accuracy: 0.633\n",
      "Epoch  5, CIFAR-10 Batch 2:  Train Cost: 0.673 ... Validation Accuracy: 0.627\n",
      "Epoch  5, CIFAR-10 Batch 3:  Train Cost: 0.536 ... Validation Accuracy: 0.632\n",
      "Epoch  5, CIFAR-10 Batch 4:  Train Cost: 0.745 ... Validation Accuracy: 0.630\n",
      "Epoch  5, CIFAR-10 Batch 5:  Train Cost: 0.760 ... Validation Accuracy: 0.642\n",
      "Epoch  6, CIFAR-10 Batch 1:  Train Cost: 0.840 ... Validation Accuracy: 0.650\n",
      "Epoch  6, CIFAR-10 Batch 2:  Train Cost: 0.557 ... Validation Accuracy: 0.646\n",
      "Epoch  6, CIFAR-10 Batch 3:  Train Cost: 0.454 ... Validation Accuracy: 0.652\n",
      "Epoch  6, CIFAR-10 Batch 4:  Train Cost: 0.666 ... Validation Accuracy: 0.643\n",
      "Epoch  6, CIFAR-10 Batch 5:  Train Cost: 0.688 ... Validation Accuracy: 0.643\n",
      "Epoch  7, CIFAR-10 Batch 1:  Train Cost: 0.721 ... Validation Accuracy: 0.655\n",
      "Epoch  7, CIFAR-10 Batch 2:  Train Cost: 0.508 ... Validation Accuracy: 0.656\n",
      "Epoch  7, CIFAR-10 Batch 3:  Train Cost: 0.395 ... Validation Accuracy: 0.652\n",
      "Epoch  7, CIFAR-10 Batch 4:  Train Cost: 0.598 ... Validation Accuracy: 0.652\n",
      "Epoch  7, CIFAR-10 Batch 5:  Train Cost: 0.597 ... Validation Accuracy: 0.661\n",
      "Epoch  8, CIFAR-10 Batch 1:  Train Cost: 0.633 ... Validation Accuracy: 0.665\n",
      "Epoch  8, CIFAR-10 Batch 2:  Train Cost: 0.440 ... Validation Accuracy: 0.664\n",
      "Epoch  8, CIFAR-10 Batch 3:  Train Cost: 0.362 ... Validation Accuracy: 0.662\n",
      "Epoch  8, CIFAR-10 Batch 4:  Train Cost: 0.532 ... Validation Accuracy: 0.661\n",
      "Epoch  8, CIFAR-10 Batch 5:  Train Cost: 0.546 ... Validation Accuracy: 0.663\n",
      "Epoch  9, CIFAR-10 Batch 1:  Train Cost: 0.558 ... Validation Accuracy: 0.672\n",
      "Epoch  9, CIFAR-10 Batch 2:  Train Cost: 0.428 ... Validation Accuracy: 0.667\n",
      "Epoch  9, CIFAR-10 Batch 3:  Train Cost: 0.312 ... Validation Accuracy: 0.665\n",
      "Epoch  9, CIFAR-10 Batch 4:  Train Cost: 0.505 ... Validation Accuracy: 0.663\n",
      "Epoch  9, CIFAR-10 Batch 5:  Train Cost: 0.482 ... Validation Accuracy: 0.670\n",
      "Epoch 10, CIFAR-10 Batch 1:  Train Cost: 0.499 ... Validation Accuracy: 0.673\n",
      "Epoch 10, CIFAR-10 Batch 2:  Train Cost: 0.398 ... Validation Accuracy: 0.671\n",
      "Epoch 10, CIFAR-10 Batch 3:  Train Cost: 0.292 ... Validation Accuracy: 0.666\n",
      "Epoch 10, CIFAR-10 Batch 4:  Train Cost: 0.446 ... Validation Accuracy: 0.672\n",
      "Epoch 10, CIFAR-10 Batch 5:  Train Cost: 0.449 ... Validation Accuracy: 0.674\n",
      "Epoch 11, CIFAR-10 Batch 1:  Train Cost: 0.461 ... Validation Accuracy: 0.673\n",
      "Epoch 11, CIFAR-10 Batch 2:  Train Cost: 0.355 ... Validation Accuracy: 0.674\n",
      "Epoch 11, CIFAR-10 Batch 3:  Train Cost: 0.272 ... Validation Accuracy: 0.676\n",
      "Epoch 11, CIFAR-10 Batch 4:  Train Cost: 0.434 ... Validation Accuracy: 0.662\n",
      "Epoch 11, CIFAR-10 Batch 5:  Train Cost: 0.422 ... Validation Accuracy: 0.674\n",
      "Epoch 12, CIFAR-10 Batch 1:  Train Cost: 0.403 ... Validation Accuracy: 0.674\n",
      "Epoch 12, CIFAR-10 Batch 2:  Train Cost: 0.303 ... Validation Accuracy: 0.680\n",
      "Epoch 12, CIFAR-10 Batch 3:  Train Cost: 0.253 ... Validation Accuracy: 0.68\n",
      "Epoch 12, CIFAR-10 Batch 4:  Train Cost: 0.380 ... Validation Accuracy: 0.673\n",
      "Epoch 12, CIFAR-10 Batch 5:  Train Cost: 0.379 ... Validation Accuracy: 0.672\n",
      "Epoch 13, CIFAR-10 Batch 1:  Train Cost: 0.364 ... Validation Accuracy: 0.677\n",
      "Epoch 13, CIFAR-10 Batch 2:  Train Cost: 0.268 ... Validation Accuracy: 0.683\n",
      "Epoch 13, CIFAR-10 Batch 3:  Train Cost: 0.218 ... Validation Accuracy: 0.677\n",
      "Epoch 13, CIFAR-10 Batch 4:  Train Cost: 0.351 ... Validation Accuracy: 0.676\n",
      "Epoch 13, CIFAR-10 Batch 5:  Train Cost: 0.356 ... Validation Accuracy: 0.676\n",
      "Epoch 14, CIFAR-10 Batch 1:  Train Cost: 0.314 ... Validation Accuracy: 0.685\n",
      "Epoch 14, CIFAR-10 Batch 2:  Train Cost: 0.263 ... Validation Accuracy: 0.681\n",
      "Epoch 14, CIFAR-10 Batch 3:  Train Cost: 0.215 ... Validation Accuracy: 0.679\n",
      "Epoch 14, CIFAR-10 Batch 4:  Train Cost: 0.323 ... Validation Accuracy: 0.674\n",
      "Epoch 14, CIFAR-10 Batch 5:  Train Cost: 0.320 ... Validation Accuracy: 0.684\n",
      "Epoch 15, CIFAR-10 Batch 1:  Train Cost: 0.300 ... Validation Accuracy: 0.672\n",
      "Epoch 15, CIFAR-10 Batch 2:  Train Cost: 0.231 ... Validation Accuracy: 0.688\n",
      "Epoch 15, CIFAR-10 Batch 3:  Train Cost: 0.198 ... Validation Accuracy: 0.681\n",
      "Epoch 15, CIFAR-10 Batch 4:  Train Cost: 0.292 ... Validation Accuracy: 0.680\n",
      "Epoch 15, CIFAR-10 Batch 5:  Train Cost: 0.287 ... Validation Accuracy: 0.689\n",
      "Epoch 16, CIFAR-10 Batch 1:  Train Cost: 0.273 ... Validation Accuracy: 0.682\n",
      "Epoch 16, CIFAR-10 Batch 2:  Train Cost: 0.227 ... Validation Accuracy: 0.692\n",
      "Epoch 16, CIFAR-10 Batch 3:  Train Cost: 0.201 ... Validation Accuracy: 0.683\n",
      "Epoch 16, CIFAR-10 Batch 4:  Train Cost: 0.275 ... Validation Accuracy: 0.681\n",
      "Epoch 16, CIFAR-10 Batch 5:  Train Cost: 0.273 ... Validation Accuracy: 0.686\n",
      "Epoch 17, CIFAR-10 Batch 1:  Train Cost: 0.248 ... Validation Accuracy: 0.689\n",
      "Epoch 17, CIFAR-10 Batch 2:  Train Cost: 0.218 ... Validation Accuracy: 0.686\n",
      "Epoch 17, CIFAR-10 Batch 3:  Train Cost: 0.186 ... Validation Accuracy: 0.680\n",
      "Epoch 17, CIFAR-10 Batch 4:  Train Cost: 0.256 ... Validation Accuracy: 0.679\n",
      "Epoch 17, CIFAR-10 Batch 5:  Train Cost: 0.247 ... Validation Accuracy: 0.687\n",
      "Epoch 18, CIFAR-10 Batch 1:  Train Cost: 0.240 ... Validation Accuracy: 0.684\n",
      "Epoch 18, CIFAR-10 Batch 2:  Train Cost: 0.204 ... Validation Accuracy: 0.681\n",
      "Epoch 18, CIFAR-10 Batch 3:  Train Cost: 0.186 ... Validation Accuracy: 0.682\n",
      "Epoch 18, CIFAR-10 Batch 4:  Train Cost: 0.243 ... Validation Accuracy: 0.679\n",
      "Epoch 18, CIFAR-10 Batch 5:  Train Cost: 0.228 ... Validation Accuracy: 0.691\n",
      "Epoch 19, CIFAR-10 Batch 1:  Train Cost: 0.216 ... Validation Accuracy: 0.685\n",
      "Epoch 19, CIFAR-10 Batch 2:  Train Cost: 0.190 ... Validation Accuracy: 0.687\n",
      "Epoch 19, CIFAR-10 Batch 3:  Train Cost: 0.179 ... Validation Accuracy: 0.681\n",
      "Epoch 19, CIFAR-10 Batch 4:  Train Cost: 0.233 ... Validation Accuracy: 0.678\n",
      "Epoch 19, CIFAR-10 Batch 5:  Train Cost: 0.223 ... Validation Accuracy: 0.688\n",
      "Epoch 20, CIFAR-10 Batch 1:  Train Cost: 0.211 ... Validation Accuracy: 0.684\n",
      "Epoch 20, CIFAR-10 Batch 2:  Train Cost: 0.208 ... Validation Accuracy: 0.682\n",
      "Epoch 20, CIFAR-10 Batch 3:  Train Cost: 0.161 ... Validation Accuracy: 0.685\n",
      "Epoch 20, CIFAR-10 Batch 4:  Train Cost: 0.228 ... Validation Accuracy: 0.672\n",
      "Epoch 20, CIFAR-10 Batch 5:  Train Cost: 0.198 ... Validation Accuracy: 0.692\n"
     ]
    }
   ],
   "source": [
    "\"\"\"\n",
    "DON'T MODIFY ANYTHING IN THIS CELL\n",
    "\"\"\"\n",
    "save_model_path = './image_classification'\n",
    "\n",
    "print('Training...')\n",
    "with tf.Session() as sess:\n",
    "    # Initializing the variables\n",
    "    sess.run(tf.global_variables_initializer())\n",
    "    \n",
    "    # Training cycle\n",
    "    for epoch in range(epochs):\n",
    "        # Loop over all batches\n",
    "        n_batches = 5\n",
    "        for batch_i in range(1, n_batches + 1):\n",
    "            for batch_features, batch_labels in helper.load_preprocess_training_batch(batch_i, batch_size):\n",
    "                train_neural_network(sess, optimizer, keep_probability, batch_features, batch_labels)\n",
    "            print('Epoch {:>2}, CIFAR-10 Batch {}:  '.format(epoch + 1, batch_i), end='')\n",
    "            print_stats(sess, batch_features, batch_labels, cost, accuracy)\n",
    "            \n",
    "    # Save Model\n",
    "    saver = tf.train.Saver()\n",
    "    save_path = saver.save(sess, save_model_path)"
   ]
  },
  {
   "cell_type": "markdown",
   "metadata": {
    "deletable": true,
    "editable": true
   },
   "source": [
    "# Checkpoint\n",
    "The model has been saved to disk.\n",
    "## Test Model\n",
    "Test your model against the test dataset.  This will be your final accuracy. You should have an accuracy greater than 50%. If you don't, keep tweaking the model architecture and parameters."
   ]
  },
  {
   "cell_type": "code",
   "execution_count": 35,
   "metadata": {
    "collapsed": false,
    "deletable": true,
    "editable": true
   },
   "outputs": [
    {
     "name": "stdout",
     "output_type": "stream",
     "text": [
      "Testing Accuracy: 0.69443359375\n",
      "\n"
     ]
    },
    {
     "data": {
      "image/png": "[encoded data removed]",
      "text/plain": [
       "<matplotlib.figure.Figure at 0x7fb3bc3a8898>"
      ]
     },
     "metadata": {
      "image/png": {
       "height": 319,
       "width": 355
      }
     },
     "output_type": "display_data"
    }
   ],
   "source": [
    "\"\"\"\n",
    "DON'T MODIFY ANYTHING IN THIS CELL\n",
    "\"\"\"\n",
    "%matplotlib inline\n",
    "%config InlineBackend.figure_format = 'retina'\n",
    "\n",
    "import tensorflow as tf\n",
    "import pickle\n",
    "import helper\n",
    "import random\n",
    "\n",
    "# Set batch size if not already set\n",
    "try:\n",
    "    if batch_size:\n",
    "        pass\n",
    "except NameError:\n",
    "    batch_size = 64\n",
    "\n",
    "save_model_path = './image_classification'\n",
    "n_samples = 4\n",
    "top_n_predictions = 3\n",
    "\n",
    "def test_model():\n",
    "    \"\"\"\n",
    "    Test the saved model against the test dataset\n",
    "    \"\"\"\n",
    "\n",
    "    test_features, test_labels = pickle.load(open('preprocess_test.p', mode='rb'))\n",
    "    loaded_graph = tf.Graph()\n",
    "\n",
    "    with tf.Session(graph=loaded_graph) as sess:\n",
    "        # Load model\n",
    "        loader = tf.train.import_meta_graph(save_model_path + '.meta')\n",
    "        loader.restore(sess, save_model_path)\n",
    "\n",
    "        # Get Tensors from loaded model\n",
    "        loaded_x = loaded_graph.get_tensor_by_name('x:0')\n",
    "        loaded_y = loaded_graph.get_tensor_by_name('y:0')\n",
    "        loaded_keep_prob = loaded_graph.get_tensor_by_name('keep_prob:0')\n",
    "        loaded_logits = loaded_graph.get_tensor_by_name('logits:0')\n",
    "        loaded_acc = loaded_graph.get_tensor_by_name('accuracy:0')\n",
    "        \n",
    "        # Get accuracy in batches for memory limitations\n",
    "        test_batch_acc_total = 0\n",
    "        test_batch_count = 0\n",
    "        \n",
    "        for test_feature_batch, test_label_batch in helper.batch_features_labels(test_features, test_labels, batch_size):\n",
    "            test_batch_acc_total += sess.run(\n",
    "                loaded_acc,\n",
    "                feed_dict={loaded_x: test_feature_batch, loaded_y: test_label_batch, loaded_keep_prob: 1.0})\n",
    "            test_batch_count += 1\n",
    "\n",
    "        print('Testing Accuracy: {}\\n'.format(test_batch_acc_total/test_batch_count))\n",
    "\n",
    "        # Print Random Samples\n",
    "        random_test_features, random_test_labels = tuple(zip(*random.sample(list(zip(test_features, test_labels)), n_samples)))\n",
    "        random_test_predictions = sess.run(\n",
    "            tf.nn.top_k(tf.nn.softmax(loaded_logits), top_n_predictions),\n",
    "            feed_dict={loaded_x: random_test_features, loaded_y: random_test_labels, loaded_keep_prob: 1.0})\n",
    "        helper.display_image_predictions(random_test_features, random_test_labels, random_test_predictions)\n",
    "\n",
    "\n",
    "test_model()"
   ]
  },
  {
   "cell_type": "markdown",
   "metadata": {
    "deletable": true,
    "editable": true
   },
   "source": [
    "## Why 50-80% Accuracy?\n",
    "You might be wondering why you can't get an accuracy any higher. First things first, 50% isn't bad for a simple CNN.  Pure guessing would get you 10% accuracy. However, you might notice people are getting scores [well above 80%](http://rodrigob.github.io/are_we_there_yet/build/classification_datasets_results.html#43494641522d3130).  That's because we haven't taught you all there is to know about neural networks. We still need to cover a few more techniques.\n",
    "## Submitting This Project\n",
    "When submitting this project, make sure to run all the cells before saving the notebook.  Save the notebook file as \"dlnd_image_classification.ipynb\" and save it as a HTML file under \"File\" -> \"Download as\".  Include the \"helper.py\" and \"problem_unittests.py\" files in your submission."
   ]
  }
 ],
 "metadata": {
  "kernelspec": {
   "display_name": "Python 3",
   "language": "python",
   "name": "python3"
  },
  "language_info": {
   "codemirror_mode": {
    "name": "ipython",
    "version": 3
   },
   "file_extension": ".py",
   "mimetype": "text/x-python",
   "name": "python",
   "nbconvert_exporter": "python",
   "pygments_lexer": "ipython3",
   "version": "3.6.0"
  }
 },
 "nbformat": 4,
 "nbformat_minor": 1
}
